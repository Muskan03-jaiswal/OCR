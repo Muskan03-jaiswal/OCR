{
  "metadata": {
    "kernelspec": {
      "language": "python",
      "display_name": "Python 3",
      "name": "python3"
    },
    "language_info": {
      "name": "python",
      "version": "3.10.12",
      "mimetype": "text/x-python",
      "codemirror_mode": {
        "name": "ipython",
        "version": 3
      },
      "pygments_lexer": "ipython3",
      "nbconvert_exporter": "python",
      "file_extension": ".py"
    },
    "kaggle": {
      "accelerator": "gpu",
      "dataSources": [
        {
          "sourceId": 5850209,
          "sourceType": "datasetVersion",
          "datasetId": 3364134
        },
        {
          "sourceId": 11200813,
          "sourceType": "datasetVersion",
          "datasetId": 6993388
        },
        {
          "sourceId": 306170,
          "sourceType": "modelInstanceVersion",
          "isSourceIdPinned": false,
          "modelInstanceId": 261197,
          "modelId": 282351
        },
        {
          "sourceId": 306204,
          "sourceType": "modelInstanceVersion",
          "isSourceIdPinned": true,
          "modelInstanceId": 261223,
          "modelId": 282377
        }
      ],
      "dockerImageVersionId": 30627,
      "isInternetEnabled": true,
      "language": "python",
      "sourceType": "notebook",
      "isGpuEnabled": true
    },
    "colab": {
      "provenance": []
    }
  },
  "nbformat_minor": 0,
  "nbformat": 4,
  "cells": [
    {
      "cell_type": "markdown",
      "source": [
        "# 1) Importing Libraries"
      ],
      "metadata": {
        "id": "_D-0pdviuJ64"
      }
    },
    {
      "cell_type": "code",
      "source": [
        "# Default libraries, packages for data management, visualization and Computer vision libraries\n",
        "import cv2\n",
        "import numpy as np\n",
        "import pandas as pd\n",
        "import matplotlib.pyplot as plt\n",
        "import seaborn as sns\n",
        "import os\n",
        "\n",
        "# Sklearn package -> function\n",
        "from sklearn.model_selection import train_test_split\n",
        "from sklearn.metrics import classification_report\n",
        "\n",
        "# Tensorflow packages\n",
        "import tensorflow as tf\n",
        "from tensorflow.keras.preprocessing.image import ImageDataGenerator\n",
        "from tensorflow.keras.models import Sequential\n",
        "from tensorflow.keras.layers import (Dense, Dropout, Conv2D, MaxPool2D,\n",
        "                                     BatchNormalization, Flatten, GlobalAveragePooling2D, Input)\n",
        "from tensorflow.keras.optimizers import Adam\n",
        "from tensorflow.keras.callbacks import EarlyStopping, ModelCheckpoint, ReduceLROnPlateau, LearningRateScheduler\n",
        "from tensorflow.keras.applications import EfficientNetB7, MobileNetV2, VGG19, DenseNet121"
      ],
      "metadata": {
        "_uuid": "8f2839f25d086af736a60e9eeb907d3b93b6e0e5",
        "_cell_guid": "b1076dfc-b9ad-4769-8c92-a6c4dae69d19",
        "execution": {
          "iopub.status.busy": "2025-03-28T21:41:11.409867Z",
          "iopub.execute_input": "2025-03-28T21:41:11.410458Z",
          "iopub.status.idle": "2025-03-28T21:41:11.415873Z",
          "shell.execute_reply.started": "2025-03-28T21:41:11.410427Z",
          "shell.execute_reply": "2025-03-28T21:41:11.415053Z"
        },
        "trusted": true,
        "id": "XtPJu2TVuJ69"
      },
      "outputs": [],
      "execution_count": null
    },
    {
      "cell_type": "markdown",
      "source": [
        "# 2) Helper Functions & Hyperparameters"
      ],
      "metadata": {
        "id": "bjxr2pZNuJ7A"
      }
    },
    {
      "cell_type": "code",
      "source": [
        "def directory_to_df(path : str):\n",
        "    \"\"\"\n",
        "    This function to retrieve all images from targeted folder in a file, the\n",
        "    folder must be divided hirarchally in which each class contains its images individually.\n",
        "    ________________________________________________________________________________________________\n",
        "    Arguments-\n",
        "\n",
        "    path: String -> the main folder directory that contains train/test folders\n",
        "\n",
        "    ________________________________________________________________________________________________\n",
        "    Return-\n",
        "\n",
        "    DataFrame: contains the images path and label corresponding to every image\n",
        "    \"\"\"\n",
        "    df = []\n",
        "    chars = 'abcdefghijklmnopqrstuvwxyz'    # to include lowercase letters only\n",
        "    for cls in os.listdir(path):\n",
        "        cls_path = os.path.join(path,cls)\n",
        "        cls_name = cls.split('_')[0]\n",
        "        if not cls_name in chars:\n",
        "            continue\n",
        "        for img_path in os.listdir(cls_path):\n",
        "            direct = os.path.join(cls_path,img_path)\n",
        "            df.append([direct,cls_name])\n",
        "\n",
        "    df = pd.DataFrame(df, columns=['image','label'])\n",
        "    print(\"The number of samples found:\",len(df))\n",
        "    return df.copy()\n",
        "\n",
        "def read_image(path):\n",
        "    \"\"\"\n",
        "    Read an image from specified directory\n",
        "    _____________________________________________________________\n",
        "    Arguments:\n",
        "\n",
        "    path: String -> a directory of the image\n",
        "    _____________________________________________________________\n",
        "    Return:\n",
        "\n",
        "    image: numpy.array of the image\n",
        "    \"\"\"\n",
        "    image = cv2.imread(path)\n",
        "    image = cv2.cvtColor(image, cv2.COLOR_BGR2RGB)\n",
        "    return image\n",
        "\n",
        "def show_image(img, label=None) -> None:\n",
        "    \"\"\"\n",
        "    This function to display any image\n",
        "    _________________________________________________________\n",
        "    Arguements:\n",
        "\n",
        "    img: numpy.array of N-D\n",
        "\n",
        "    label: String -> the title/label added with the image, Default= None\n",
        "    _________________________________________________________\n",
        "    Return:\n",
        "\n",
        "    plt.imshow()\n",
        "    \"\"\"\n",
        "    plt.imshow(img, cmap='gray')\n",
        "    plt.axis(False)\n",
        "    plt.title(label)\n",
        "    plt.show()\n",
        "\n",
        "def clbck(model_name):\n",
        "    # The function is defined to make the callbacks for training the models\n",
        "    ERLY = EarlyStopping(patience=10, min_delta=0.01, start_from_epoch=10, verbose=1)\n",
        "    RD = ReduceLROnPlateau(patience=5, min_delta=0.01, factor=0.5)\n",
        "    CHK = ModelCheckpoint(f'{model_name}_model.h5',verbose=1, save_best_only=True)\n",
        "    return [ERLY,RD,CHK]"
      ],
      "metadata": {
        "execution": {
          "iopub.status.busy": "2025-03-28T21:41:18.037911Z",
          "iopub.execute_input": "2025-03-28T21:41:18.038696Z",
          "iopub.status.idle": "2025-03-28T21:41:18.047074Z",
          "shell.execute_reply.started": "2025-03-28T21:41:18.038664Z",
          "shell.execute_reply": "2025-03-28T21:41:18.046148Z"
        },
        "trusted": true,
        "id": "OcOwmUJ4uJ7B"
      },
      "outputs": [],
      "execution_count": null
    },
    {
      "cell_type": "code",
      "source": [
        "# Pre-defined hyperparameters\n",
        "IMG_SHAPE = (32,32)\n",
        "IMG_SIZE = (32,32,3)\n",
        "BATCH_SIZE = 32\n",
        "opt = Adam(learning_rate=0.00001, epsilon=1e-6)\n",
        "loss = 'categorical_crossentropy'\n",
        "EPOCHS = 10"
      ],
      "metadata": {
        "execution": {
          "iopub.status.busy": "2025-03-28T21:41:25.143063Z",
          "iopub.execute_input": "2025-03-28T21:41:25.143868Z",
          "iopub.status.idle": "2025-03-28T21:41:26.086940Z",
          "shell.execute_reply.started": "2025-03-28T21:41:25.143836Z",
          "shell.execute_reply": "2025-03-28T21:41:26.086047Z"
        },
        "trusted": true,
        "id": "MNS1HyhguJ7C"
      },
      "outputs": [],
      "execution_count": null
    },
    {
      "cell_type": "markdown",
      "source": [
        "# 3) Reading & preparing the dataset"
      ],
      "metadata": {
        "id": "dkjxGJwQuJ7D"
      }
    },
    {
      "cell_type": "code",
      "source": [
        "# Reading the dataset in dataframe\n",
        "main_path = '/kaggle/input/ocr-dataset/dataset'\n",
        "df = directory_to_df(main_path)                   # convert the dataset into df of two columns\n",
        "df.head()"
      ],
      "metadata": {
        "execution": {
          "iopub.status.busy": "2025-03-28T21:41:27.571599Z",
          "iopub.execute_input": "2025-03-28T21:41:27.571931Z",
          "iopub.status.idle": "2025-03-28T21:41:29.079845Z",
          "shell.execute_reply.started": "2025-03-28T21:41:27.571902Z",
          "shell.execute_reply": "2025-03-28T21:41:29.079137Z"
        },
        "trusted": true,
        "id": "oFfEhhzQuJ7D",
        "outputId": "cd8be615-acf0-4ade-852f-5da0614c31a6"
      },
      "outputs": [
        {
          "name": "stdout",
          "text": "The number of samples found: 85199\n",
          "output_type": "stream"
        },
        {
          "execution_count": 5,
          "output_type": "execute_result",
          "data": {
            "text/plain": "                                               image label\n0  /kaggle/input/ocr-dataset/dataset/c_L/C_L_1241...     c\n1  /kaggle/input/ocr-dataset/dataset/c_L/C_L_3096...     c\n2  /kaggle/input/ocr-dataset/dataset/c_L/C_L_3184...     c\n3  /kaggle/input/ocr-dataset/dataset/c_L/C_L_2981...     c\n4  /kaggle/input/ocr-dataset/dataset/c_L/C_L_1635...     c",
            "text/html": "<div>\n<style scoped>\n    .dataframe tbody tr th:only-of-type {\n        vertical-align: middle;\n    }\n\n    .dataframe tbody tr th {\n        vertical-align: top;\n    }\n\n    .dataframe thead th {\n        text-align: right;\n    }\n</style>\n<table border=\"1\" class=\"dataframe\">\n  <thead>\n    <tr style=\"text-align: right;\">\n      <th></th>\n      <th>image</th>\n      <th>label</th>\n    </tr>\n  </thead>\n  <tbody>\n    <tr>\n      <th>0</th>\n      <td>/kaggle/input/ocr-dataset/dataset/c_L/C_L_1241...</td>\n      <td>c</td>\n    </tr>\n    <tr>\n      <th>1</th>\n      <td>/kaggle/input/ocr-dataset/dataset/c_L/C_L_3096...</td>\n      <td>c</td>\n    </tr>\n    <tr>\n      <th>2</th>\n      <td>/kaggle/input/ocr-dataset/dataset/c_L/C_L_3184...</td>\n      <td>c</td>\n    </tr>\n    <tr>\n      <th>3</th>\n      <td>/kaggle/input/ocr-dataset/dataset/c_L/C_L_2981...</td>\n      <td>c</td>\n    </tr>\n    <tr>\n      <th>4</th>\n      <td>/kaggle/input/ocr-dataset/dataset/c_L/C_L_1635...</td>\n      <td>c</td>\n    </tr>\n  </tbody>\n</table>\n</div>"
          },
          "metadata": {}
        }
      ],
      "execution_count": null
    },
    {
      "cell_type": "code",
      "source": [
        "df['label'].value_counts()"
      ],
      "metadata": {
        "execution": {
          "iopub.status.busy": "2025-03-28T21:41:29.081574Z",
          "iopub.execute_input": "2025-03-28T21:41:29.082268Z",
          "iopub.status.idle": "2025-03-28T21:41:29.098965Z",
          "shell.execute_reply.started": "2025-03-28T21:41:29.082239Z",
          "shell.execute_reply": "2025-03-28T21:41:29.098269Z"
        },
        "jupyter": {
          "source_hidden": true
        },
        "trusted": true,
        "id": "YTmW49mVuJ7F",
        "outputId": "09700f8a-7496-41ea-8350-1b65453cf20e"
      },
      "outputs": [
        {
          "execution_count": 6,
          "output_type": "execute_result",
          "data": {
            "text/plain": "label\nr    3284\ne    3284\nn    3281\na    3281\nm    3281\nq    3279\nu    3278\ni    3277\nd    3277\ny    3276\nx    3276\ns    3276\nl    3276\nk    3276\nt    3276\ng    3275\nw    3275\nh    3275\nz    3275\nf    3275\np    3275\no    3275\nb    3274\nc    3274\nj    3274\nv    3274\nName: count, dtype: int64"
          },
          "metadata": {}
        }
      ],
      "execution_count": null
    },
    {
      "cell_type": "markdown",
      "source": [
        "## 3.1) Splitting the dataframe\n",
        "- The dataframe is splitted to get 70% of the dataset for `training` , and 30% for `testing`\n",
        "- The training set is splitted into `training` and `validation` to enhance the model training"
      ],
      "metadata": {
        "id": "SvYfQolPuJ7F"
      }
    },
    {
      "cell_type": "code",
      "source": [
        "# Splitting for training & testing (70,30 respectively)\n",
        "X, y = df['image'], df['label']\n",
        "X_train, X_test, y_train, y_test = train_test_split(X,y , test_size=0.30, random_state=41)\n",
        "training_df = pd.concat((X_train,y_train), axis=1)\n",
        "testing_df = pd.concat((X_test,y_test), axis=1)"
      ],
      "metadata": {
        "execution": {
          "iopub.status.busy": "2025-03-28T21:41:31.422891Z",
          "iopub.execute_input": "2025-03-28T21:41:31.423247Z",
          "iopub.status.idle": "2025-03-28T21:41:31.444375Z",
          "shell.execute_reply.started": "2025-03-28T21:41:31.423218Z",
          "shell.execute_reply": "2025-03-28T21:41:31.443693Z"
        },
        "trusted": true,
        "id": "nj1JKEMJuJ7G"
      },
      "outputs": [],
      "execution_count": null
    },
    {
      "cell_type": "code",
      "source": [
        "# Splitting for training & validation (75,25 respectively) -> the training set size = 52.5%\n",
        "X, y = training_df['image'], training_df['label']\n",
        "X_train, X_valid, y_train, y_valid = train_test_split(X,y , test_size=0.25, random_state=41)\n",
        "training_df = pd.concat((X_train,y_train), axis=1)\n",
        "validation_df = pd.concat((X_valid,y_valid), axis=1)"
      ],
      "metadata": {
        "execution": {
          "iopub.status.busy": "2025-03-28T21:41:32.645911Z",
          "iopub.execute_input": "2025-03-28T21:41:32.646252Z",
          "iopub.status.idle": "2025-03-28T21:41:32.662801Z",
          "shell.execute_reply.started": "2025-03-28T21:41:32.646225Z",
          "shell.execute_reply": "2025-03-28T21:41:32.662058Z"
        },
        "trusted": true,
        "id": "6xMxPgLcuJ7G"
      },
      "outputs": [],
      "execution_count": null
    },
    {
      "cell_type": "markdown",
      "source": [
        "## 3.2) Creating generators\n",
        "- The `ImageDataGenerators` is used for data augmentation, the augmentation is required since the `OCR` can work with different brightness which is not included in the dataset.\n",
        "- Also, it enhance the RAM usage."
      ],
      "metadata": {
        "id": "txMoqLksuJ7H"
      }
    },
    {
      "cell_type": "code",
      "source": [
        "# Creating generators\n",
        "gen = ImageDataGenerator(dtype=np.int32, brightness_range=[0.0,1.0], fill_mode='nearest')\n",
        "gen2 = ImageDataGenerator(dtype=np.int32, fill_mode='nearest')\n",
        "train_gen = gen.flow_from_dataframe(training_df, x_col='image',y_col='label', batch_size=BATCH_SIZE,\n",
        "                                   target_size=IMG_SHAPE)\n",
        "valid_gen = gen2.flow_from_dataframe(validation_df, x_col='image', y_col='label', batch_size=BATCH_SIZE,\n",
        "                                        target_size=IMG_SHAPE, shuffle=False)\n",
        "test_gen = gen2.flow_from_dataframe(testing_df, x_col='image', y_col='label', batch_size=BATCH_SIZE,\n",
        "                                       target_size=IMG_SHAPE, shuffle=False)"
      ],
      "metadata": {
        "execution": {
          "iopub.status.busy": "2025-03-28T21:41:34.865816Z",
          "iopub.execute_input": "2025-03-28T21:41:34.866533Z",
          "iopub.status.idle": "2025-03-28T21:45:43.344194Z",
          "shell.execute_reply.started": "2025-03-28T21:41:34.866499Z",
          "shell.execute_reply": "2025-03-28T21:45:43.343415Z"
        },
        "trusted": true,
        "id": "CvVPZ4A5uJ7H",
        "outputId": "b77f6fc5-5f9f-4914-a298-199ff28ec531"
      },
      "outputs": [
        {
          "name": "stdout",
          "text": "Found 44729 validated image filenames belonging to 26 classes.\nFound 14910 validated image filenames belonging to 26 classes.\nFound 25560 validated image filenames belonging to 26 classes.\n",
          "output_type": "stream"
        }
      ],
      "execution_count": null
    },
    {
      "cell_type": "code",
      "source": [
        "# Making a mapping of the classes and the inverse for later processings\n",
        "mapping = train_gen.class_indices\n",
        "mapping_inverse = dict(map(lambda x: tuple(reversed(x)), mapping.items()))"
      ],
      "metadata": {
        "execution": {
          "iopub.status.busy": "2025-03-28T21:45:43.345510Z",
          "iopub.execute_input": "2025-03-28T21:45:43.345783Z",
          "iopub.status.idle": "2025-03-28T21:45:43.350242Z",
          "shell.execute_reply.started": "2025-03-28T21:45:43.345759Z",
          "shell.execute_reply": "2025-03-28T21:45:43.349299Z"
        },
        "trusted": true,
        "id": "0Bci_uYluJ7H"
      },
      "outputs": [],
      "execution_count": null
    },
    {
      "cell_type": "code",
      "source": [
        "# Reading a sample from the dataset\n",
        "BATCH_NUM = 10\n",
        "IMG_NUM = 2      # from 0 to 31\n",
        "show_image(train_gen[BATCH_NUM][0][IMG_NUM],mapping_inverse[train_gen[BATCH_NUM][1][IMG_NUM].argmax()])\n",
        "print('The shape of the image:',train_gen[BATCH_NUM][0][IMG_NUM].shape)"
      ],
      "metadata": {
        "execution": {
          "iopub.status.busy": "2025-03-28T21:45:43.351120Z",
          "iopub.execute_input": "2025-03-28T21:45:43.351400Z",
          "iopub.status.idle": "2025-03-28T21:45:43.733266Z",
          "shell.execute_reply.started": "2025-03-28T21:45:43.351369Z",
          "shell.execute_reply": "2025-03-28T21:45:43.732373Z"
        },
        "jupyter": {
          "source_hidden": true
        },
        "trusted": true,
        "id": "p5BhCWizuJ7I",
        "outputId": "7f515d27-ec93-448c-be55-36631d666b91"
      },
      "outputs": [
        {
          "output_type": "display_data",
          "data": {
            "text/plain": "<Figure size 640x480 with 1 Axes>",
            "image/png": "[encoded data removed]"
          },
          "metadata": {}
        },
        {
          "name": "stdout",
          "text": "The shape of the image: (32, 32, 3)\n",
          "output_type": "stream"
        }
      ],
      "execution_count": null
    },
    {
      "cell_type": "code",
      "source": [
        "# Reading another sample from the dataset\n",
        "BATCH_NUM = 65\n",
        "IMG_NUM = 30      # from 0 to 31\n",
        "show_image(train_gen[BATCH_NUM][0][IMG_NUM],mapping_inverse[train_gen[BATCH_NUM][1][IMG_NUM].argmax()])\n",
        "print('The shape of the image:',train_gen[BATCH_NUM][0][IMG_NUM].shape)"
      ],
      "metadata": {
        "execution": {
          "iopub.status.busy": "2025-03-28T21:45:43.735523Z",
          "iopub.execute_input": "2025-03-28T21:45:43.735828Z",
          "iopub.status.idle": "2025-03-28T21:45:44.012163Z",
          "shell.execute_reply.started": "2025-03-28T21:45:43.735804Z",
          "shell.execute_reply": "2025-03-28T21:45:44.011269Z"
        },
        "jupyter": {
          "source_hidden": true
        },
        "trusted": true,
        "id": "2CaOr333uJ7I",
        "outputId": "e970312c-9975-45b9-f250-742000a57ca4"
      },
      "outputs": [
        {
          "output_type": "display_data",
          "data": {
            "text/plain": "<Figure size 640x480 with 1 Axes>",
            "image/png": "[encoded data removed]"
          },
          "metadata": {}
        },
        {
          "name": "stdout",
          "text": "The shape of the image: (32, 32, 3)\n",
          "output_type": "stream"
        }
      ],
      "execution_count": null
    },
    {
      "cell_type": "markdown",
      "source": [
        "# 4) Modeling\n",
        "*Our target is to build a **`custom CNN model`** to train on our targeted images for the `OCR` application. in advance, we also will use 4 Pre-trained models as part of `Transfer Learning` and to enhance the performance of the application.*\n",
        "\n",
        "***Our targeted pretrained models are the following:***\n",
        "\n",
        "*- EfficientNetB7*\n",
        "\n",
        "*- MobileNetV2*\n",
        "\n",
        "*- VGG19*\n",
        "\n",
        "*- DenseNet121*\n",
        "\n",
        "***The fine-tuning strategy:*** *using a small value of `LR` of the optimizer `Adam` will make an efficient use of the pre-trained models on our dataset without **FREEZING** the input layers in which better performance is required in our case*"
      ],
      "metadata": {
        "id": "or5fUGW9uJ7J"
      }
    },
    {
      "cell_type": "markdown",
      "source": [
        "## 4.1) Custom CNN"
      ],
      "metadata": {
        "id": "AmfdRuszuJ7J"
      }
    },
    {
      "cell_type": "code",
      "source": [
        "# Custom CNN\n",
        "CNN_model = Sequential()\n",
        "CNN_model.add(Input(shape=IMG_SIZE, batch_size=BATCH_SIZE, name='Input'))\n",
        "CNN_model.add(Conv2D(3, (3,3), strides=1, activation='relu', padding='same'))\n",
        "CNN_model.add(Conv2D(128, (3,3), activation='relu'))\n",
        "CNN_model.add(MaxPool2D((3,3)))\n",
        "CNN_model.add(Conv2D(256, (3,3), activation='relu'))\n",
        "CNN_model.add(Dropout(0.2))\n",
        "CNN_model.add(Conv2D(256, (3,3), strides=2, activation='relu', padding='same'))\n",
        "CNN_model.add(MaxPool2D((2,2)))\n",
        "CNN_model.add(Conv2D(512, (3,3), activation='relu', padding='same'))\n",
        "CNN_model.add(Dropout(0.2))\n",
        "CNN_model.add(Conv2D(1024, (2,2), activation='relu', padding='same'))\n",
        "CNN_model.add(MaxPool2D(2,2))\n",
        "CNN_model.add(Flatten())\n",
        "CNN_model.add(Dense(1024, activation='selu'))\n",
        "CNN_model.add(Dense(len(mapping), activation='softmax'))"
      ],
      "metadata": {
        "execution": {
          "iopub.status.busy": "2025-03-28T21:46:05.058606Z",
          "iopub.execute_input": "2025-03-28T21:46:05.059198Z",
          "iopub.status.idle": "2025-03-28T21:46:05.437967Z",
          "shell.execute_reply.started": "2025-03-28T21:46:05.059160Z",
          "shell.execute_reply": "2025-03-28T21:46:05.437270Z"
        },
        "trusted": true,
        "id": "wHHAv3EtuJ7J"
      },
      "outputs": [],
      "execution_count": null
    },
    {
      "cell_type": "code",
      "source": [
        "CNN_model = Sequential()\n",
        "CNN_model.add(Input(shape=(32, 32, 3), name='Input'))\n",
        "CNN_model.add(Conv2D(3, (3,3), strides=1, activation='relu', padding='same'))\n",
        "CNN_model.add(Conv2D(128, (3,3), activation='relu'))\n",
        "CNN_model.add(MaxPool2D((3,3)))\n",
        "CNN_model.add(Conv2D(256, (3,3), activation='relu'))\n",
        "CNN_model.add(Dropout(0.2))\n",
        "CNN_model.add(Conv2D(256, (3,3), strides=2, activation='relu', padding='same'))\n",
        "CNN_model.add(MaxPool2D((2,2)))\n",
        "CNN_model.add(Conv2D(512, (3,3), activation='relu', padding='same'))\n",
        "CNN_model.add(Dropout(0.2))\n",
        "CNN_model.add(Conv2D(1024, (2,2), activation='relu', padding='same'))\n",
        "CNN_model.add(MaxPool2D((2,2)))\n",
        "CNN_model.add(Flatten())\n",
        "CNN_model.add(Dense(1024, activation='selu'))\n",
        "CNN_model.add(Dense(len(mapping), activation='softmax'))\n"
      ],
      "metadata": {
        "trusted": true,
        "execution": {
          "iopub.status.busy": "2025-03-28T21:51:55.776176Z",
          "iopub.execute_input": "2025-03-28T21:51:55.777057Z",
          "iopub.status.idle": "2025-03-28T21:51:55.894337Z",
          "shell.execute_reply.started": "2025-03-28T21:51:55.777015Z",
          "shell.execute_reply": "2025-03-28T21:51:55.893332Z"
        },
        "id": "3P5vHgjLuJ7J"
      },
      "outputs": [],
      "execution_count": null
    },
    {
      "cell_type": "code",
      "source": [
        "CNN_model.summary()"
      ],
      "metadata": {
        "execution": {
          "iopub.status.busy": "2025-03-28T21:51:57.682082Z",
          "iopub.execute_input": "2025-03-28T21:51:57.682782Z",
          "iopub.status.idle": "2025-03-28T21:51:57.717885Z",
          "shell.execute_reply.started": "2025-03-28T21:51:57.682749Z",
          "shell.execute_reply": "2025-03-28T21:51:57.716981Z"
        },
        "trusted": true,
        "id": "9S4AxbA1uJ7K",
        "outputId": "1b9ebbe0-fd16-423c-8108-2f51b885d879"
      },
      "outputs": [
        {
          "name": "stdout",
          "text": "Model: \"sequential_1\"\n_________________________________________________________________\n Layer (type)                Output Shape              Param #   \n=================================================================\n conv2d_6 (Conv2D)           (None, 32, 32, 3)         84        \n                                                                 \n conv2d_7 (Conv2D)           (None, 30, 30, 128)       3584      \n                                                                 \n max_pooling2d_3 (MaxPoolin  (None, 10, 10, 128)       0         \n g2D)                                                            \n                                                                 \n conv2d_8 (Conv2D)           (None, 8, 8, 256)         295168    \n                                                                 \n dropout_2 (Dropout)         (None, 8, 8, 256)         0         \n                                                                 \n conv2d_9 (Conv2D)           (None, 4, 4, 256)         590080    \n                                                                 \n max_pooling2d_4 (MaxPoolin  (None, 2, 2, 256)         0         \n g2D)                                                            \n                                                                 \n conv2d_10 (Conv2D)          (None, 2, 2, 512)         1180160   \n                                                                 \n dropout_3 (Dropout)         (None, 2, 2, 512)         0         \n                                                                 \n conv2d_11 (Conv2D)          (None, 2, 2, 1024)        2098176   \n                                                                 \n max_pooling2d_5 (MaxPoolin  (None, 1, 1, 1024)        0         \n g2D)                                                            \n                                                                 \n flatten_1 (Flatten)         (None, 1024)              0         \n                                                                 \n dense_2 (Dense)             (None, 1024)              1049600   \n                                                                 \n dense_3 (Dense)             (None, 26)                26650     \n                                                                 \n=================================================================\nTotal params: 5243502 (20.00 MB)\nTrainable params: 5243502 (20.00 MB)\nNon-trainable params: 0 (0.00 Byte)\n_________________________________________________________________\n",
          "output_type": "stream"
        }
      ],
      "execution_count": null
    },
    {
      "cell_type": "code",
      "source": [
        "# Default parameters of adam will be used for the custom CNN\n",
        "CNN_model.compile(optimizer=Adam(), loss=loss, metrics=['accuracy'])"
      ],
      "metadata": {
        "execution": {
          "iopub.status.busy": "2025-03-28T21:52:00.549832Z",
          "iopub.execute_input": "2025-03-28T21:52:00.550201Z",
          "iopub.status.idle": "2025-03-28T21:52:00.561164Z",
          "shell.execute_reply.started": "2025-03-28T21:52:00.550168Z",
          "shell.execute_reply": "2025-03-28T21:52:00.560421Z"
        },
        "trusted": true,
        "id": "9hk6uFAfuJ7K"
      },
      "outputs": [],
      "execution_count": null
    },
    {
      "cell_type": "code",
      "source": [
        "print(CNN_model.input_shape)\n",
        "print(train_gen.image_shape)  # If using ImageDataGenerator\n"
      ],
      "metadata": {
        "trusted": true,
        "execution": {
          "iopub.status.busy": "2025-03-28T21:52:03.282566Z",
          "iopub.execute_input": "2025-03-28T21:52:03.282922Z",
          "iopub.status.idle": "2025-03-28T21:52:03.287782Z",
          "shell.execute_reply.started": "2025-03-28T21:52:03.282890Z",
          "shell.execute_reply": "2025-03-28T21:52:03.286896Z"
        },
        "id": "5R4sCg6PuJ7L",
        "outputId": "30f8bbe1-362e-459f-e5e9-d7d2c585d114"
      },
      "outputs": [
        {
          "name": "stdout",
          "text": "(None, 32, 32, 3)\n(32, 32, 3)\n",
          "output_type": "stream"
        }
      ],
      "execution_count": null
    },
    {
      "cell_type": "code",
      "source": [
        "print(train_gen[0][0].shape)  # First batch of images\n"
      ],
      "metadata": {
        "trusted": true,
        "execution": {
          "iopub.status.busy": "2025-03-28T21:52:06.522657Z",
          "iopub.execute_input": "2025-03-28T21:52:06.523253Z",
          "iopub.status.idle": "2025-03-28T21:52:06.572749Z",
          "shell.execute_reply.started": "2025-03-28T21:52:06.523220Z",
          "shell.execute_reply": "2025-03-28T21:52:06.571786Z"
        },
        "id": "2GLkiaMyuJ7L",
        "outputId": "8e0548db-8734-4280-b1aa-96611ecdfcd3"
      },
      "outputs": [
        {
          "name": "stdout",
          "text": "(32, 32, 32, 3)\n",
          "output_type": "stream"
        }
      ],
      "execution_count": null
    },
    {
      "cell_type": "code",
      "source": [
        "# different num. of epochs will be given for better convergence for the Custom CNN\n",
        "history = CNN_model.fit(train_gen, epochs=20, validation_data=valid_gen, callbacks=clbck(\"CustomCnn\"))"
      ],
      "metadata": {
        "execution": {
          "iopub.status.busy": "2025-03-28T21:52:07.916781Z",
          "iopub.execute_input": "2025-03-28T21:52:07.917639Z",
          "iopub.status.idle": "2025-03-28T22:16:09.299690Z",
          "shell.execute_reply.started": "2025-03-28T21:52:07.917596Z",
          "shell.execute_reply": "2025-03-28T22:16:09.298625Z"
        },
        "trusted": true,
        "id": "PpVx2rvbuJ7L",
        "outputId": "8e77d416-8af3-48d5-fcb8-86bed87843f6"
      },
      "outputs": [
        {
          "name": "stdout",
          "text": "Epoch 1/20\n",
          "output_type": "stream"
        },
        {
          "name": "stderr",
          "text": "2025-03-28 21:52:08.960126: E tensorflow/core/grappler/optimizers/meta_optimizer.cc:954] layout failed: INVALID_ARGUMENT: Size of values 0 does not match size of permutation 4 @ fanin shape insequential_1/dropout_2/dropout/SelectV2-2-TransposeNHWCToNCHW-LayoutOptimizer\n",
          "output_type": "stream"
        },
        {
          "name": "stdout",
          "text": "1398/1398 [==============================] - ETA: 0s - loss: 1.0003 - accuracy: 0.7216\nEpoch 1: val_loss improved from inf to 0.48636, saving model to CustomCnn_model.h5\n1398/1398 [==============================] - 275s 195ms/step - loss: 1.0003 - accuracy: 0.7216 - val_loss: 0.4864 - val_accuracy: 0.8789 - lr: 0.0010\nEpoch 2/20\n",
          "output_type": "stream"
        },
        {
          "name": "stderr",
          "text": "/opt/conda/lib/python3.10/site-packages/keras/src/engine/training.py:3000: UserWarning: You are saving your model as an HDF5 file via `model.save()`. This file format is considered legacy. We recommend using instead the native Keras format, e.g. `model.save('my_model.keras')`.\n  saving_api.save_model(\n",
          "output_type": "stream"
        },
        {
          "name": "stdout",
          "text": "1398/1398 [==============================] - ETA: 0s - loss: 0.4567 - accuracy: 0.8761\nEpoch 2: val_loss did not improve from 0.48636\n1398/1398 [==============================] - 57s 41ms/step - loss: 0.4567 - accuracy: 0.8761 - val_loss: 0.6091 - val_accuracy: 0.8625 - lr: 0.0010\nEpoch 3/20\n1397/1398 [============================>.] - ETA: 0s - loss: 0.3816 - accuracy: 0.8999\nEpoch 3: val_loss improved from 0.48636 to 0.37401, saving model to CustomCnn_model.h5\n1398/1398 [==============================] - 57s 41ms/step - loss: 0.3827 - accuracy: 0.8998 - val_loss: 0.3740 - val_accuracy: 0.9089 - lr: 0.0010\nEpoch 4/20\n1398/1398 [==============================] - ETA: 0s - loss: 0.3554 - accuracy: 0.9057\nEpoch 4: val_loss improved from 0.37401 to 0.32241, saving model to CustomCnn_model.h5\n1398/1398 [==============================] - 63s 45ms/step - loss: 0.3554 - accuracy: 0.9057 - val_loss: 0.3224 - val_accuracy: 0.9239 - lr: 0.0010\nEpoch 5/20\n1398/1398 [==============================] - ETA: 0s - loss: 0.3143 - accuracy: 0.9168\nEpoch 5: val_loss improved from 0.32241 to 0.31469, saving model to CustomCnn_model.h5\n1398/1398 [==============================] - 63s 45ms/step - loss: 0.3143 - accuracy: 0.9168 - val_loss: 0.3147 - val_accuracy: 0.9209 - lr: 0.0010\nEpoch 6/20\n1398/1398 [==============================] - ETA: 0s - loss: 0.3075 - accuracy: 0.9193\nEpoch 6: val_loss did not improve from 0.31469\n1398/1398 [==============================] - 64s 46ms/step - loss: 0.3075 - accuracy: 0.9193 - val_loss: 0.3710 - val_accuracy: 0.9271 - lr: 0.0010\nEpoch 7/20\n1398/1398 [==============================] - ETA: 0s - loss: 0.3094 - accuracy: 0.9206\nEpoch 7: val_loss did not improve from 0.31469\n1398/1398 [==============================] - 63s 45ms/step - loss: 0.3094 - accuracy: 0.9206 - val_loss: 0.3193 - val_accuracy: 0.9263 - lr: 0.0010\nEpoch 8/20\n1398/1398 [==============================] - ETA: 0s - loss: 0.3046 - accuracy: 0.9209\nEpoch 8: val_loss did not improve from 0.31469\n1398/1398 [==============================] - 62s 44ms/step - loss: 0.3046 - accuracy: 0.9209 - val_loss: 0.3707 - val_accuracy: 0.9193 - lr: 0.0010\nEpoch 9/20\n1397/1398 [============================>.] - ETA: 0s - loss: 0.2733 - accuracy: 0.9296\nEpoch 9: val_loss did not improve from 0.31469\n1398/1398 [==============================] - 65s 46ms/step - loss: 0.2733 - accuracy: 0.9296 - val_loss: 0.3205 - val_accuracy: 0.9328 - lr: 0.0010\nEpoch 10/20\n1398/1398 [==============================] - ETA: 0s - loss: 0.1782 - accuracy: 0.9502\nEpoch 10: val_loss improved from 0.31469 to 0.25953, saving model to CustomCnn_model.h5\n1398/1398 [==============================] - 65s 46ms/step - loss: 0.1782 - accuracy: 0.9502 - val_loss: 0.2595 - val_accuracy: 0.9409 - lr: 5.0000e-04\nEpoch 11/20\n1397/1398 [============================>.] - ETA: 0s - loss: 0.1488 - accuracy: 0.9576\nEpoch 11: val_loss did not improve from 0.25953\n1398/1398 [==============================] - 65s 46ms/step - loss: 0.1488 - accuracy: 0.9576 - val_loss: 0.2953 - val_accuracy: 0.9471 - lr: 5.0000e-04\nEpoch 12/20\n1398/1398 [==============================] - ETA: 0s - loss: 0.1427 - accuracy: 0.9600\nEpoch 12: val_loss did not improve from 0.25953\n1398/1398 [==============================] - 72s 51ms/step - loss: 0.1427 - accuracy: 0.9600 - val_loss: 0.2606 - val_accuracy: 0.9455 - lr: 5.0000e-04\nEpoch 13/20\n1398/1398 [==============================] - ETA: 0s - loss: 0.1387 - accuracy: 0.9612\nEpoch 13: val_loss improved from 0.25953 to 0.24681, saving model to CustomCnn_model.h5\n1398/1398 [==============================] - 58s 41ms/step - loss: 0.1387 - accuracy: 0.9612 - val_loss: 0.2468 - val_accuracy: 0.9497 - lr: 5.0000e-04\nEpoch 14/20\n1398/1398 [==============================] - ETA: 0s - loss: 0.1366 - accuracy: 0.9626\nEpoch 14: val_loss did not improve from 0.24681\n1398/1398 [==============================] - 61s 44ms/step - loss: 0.1366 - accuracy: 0.9626 - val_loss: 0.2750 - val_accuracy: 0.9481 - lr: 5.0000e-04\nEpoch 15/20\n1398/1398 [==============================] - ETA: 0s - loss: 0.1309 - accuracy: 0.9648\nEpoch 15: val_loss did not improve from 0.24681\n1398/1398 [==============================] - 57s 41ms/step - loss: 0.1309 - accuracy: 0.9648 - val_loss: 0.2768 - val_accuracy: 0.9486 - lr: 5.0000e-04\nEpoch 16/20\n1397/1398 [============================>.] - ETA: 0s - loss: 0.1187 - accuracy: 0.9673\nEpoch 16: val_loss did not improve from 0.24681\n1398/1398 [==============================] - 57s 41ms/step - loss: 0.1187 - accuracy: 0.9673 - val_loss: 0.3000 - val_accuracy: 0.9461 - lr: 5.0000e-04\nEpoch 17/20\n1398/1398 [==============================] - ETA: 0s - loss: 0.1213 - accuracy: 0.9669\nEpoch 17: val_loss did not improve from 0.24681\n1398/1398 [==============================] - 59s 42ms/step - loss: 0.1213 - accuracy: 0.9669 - val_loss: 0.2692 - val_accuracy: 0.9512 - lr: 5.0000e-04\nEpoch 18/20\n1398/1398 [==============================] - ETA: 0s - loss: 0.1132 - accuracy: 0.9691\nEpoch 18: val_loss did not improve from 0.24681\n1398/1398 [==============================] - 62s 44ms/step - loss: 0.1132 - accuracy: 0.9691 - val_loss: 0.2894 - val_accuracy: 0.9543 - lr: 5.0000e-04\nEpoch 19/20\n1397/1398 [============================>.] - ETA: 0s - loss: 0.0794 - accuracy: 0.9772\nEpoch 19: val_loss did not improve from 0.24681\n1398/1398 [==============================] - 60s 43ms/step - loss: 0.0794 - accuracy: 0.9773 - val_loss: 0.2522 - val_accuracy: 0.9573 - lr: 2.5000e-04\nEpoch 20/20\n1397/1398 [============================>.] - ETA: 0s - loss: 0.0683 - accuracy: 0.9794\nEpoch 20: val_loss did not improve from 0.24681\n1398/1398 [==============================] - 57s 41ms/step - loss: 0.0683 - accuracy: 0.9794 - val_loss: 0.2956 - val_accuracy: 0.9557 - lr: 2.5000e-04\n",
          "output_type": "stream"
        }
      ],
      "execution_count": null
    },
    {
      "cell_type": "code",
      "source": [
        "plt.plot(history.history['loss'], label='Training loss')\n",
        "plt.plot(history.history['val_loss'], label='Validation loss')\n",
        "plt.legend()\n",
        "plt.xlabel('Epochs')\n",
        "plt.ylabel('Loss value')\n",
        "plt.title(\"Custom CNN Training VS. Validation performance\")\n",
        "plt.show()"
      ],
      "metadata": {
        "execution": {
          "iopub.status.busy": "2025-03-28T22:33:02.583799Z",
          "iopub.execute_input": "2025-03-28T22:33:02.584185Z",
          "iopub.status.idle": "2025-03-28T22:33:02.851765Z",
          "shell.execute_reply.started": "2025-03-28T22:33:02.584153Z",
          "shell.execute_reply": "2025-03-28T22:33:02.850909Z"
        },
        "trusted": true,
        "id": "F_SqxhDhuJ7M",
        "outputId": "b907e0e1-edfb-4c6e-8aff-1140a02ac4c7"
      },
      "outputs": [
        {
          "output_type": "display_data",
          "data": {
            "text/plain": "<Figure size 640x480 with 1 Axes>",
            "image/png": "[encoded data removed]"
          },
          "metadata": {}
        }
      ],
      "execution_count": null
    },
    {
      "cell_type": "code",
      "source": [
        "# Making a prediction out of the Custom CNN for the testing set for the evaluation\n",
        "prediction = CNN_model.predict(test_gen)\n",
        "pred = list(map(lambda x: mapping_inverse[np.argmax(x)], prediction))\n",
        "y_test = list(map(lambda x: mapping_inverse[x],test_gen.classes))"
      ],
      "metadata": {
        "execution": {
          "iopub.status.busy": "2025-03-28T22:33:05.637571Z",
          "iopub.execute_input": "2025-03-28T22:33:05.638265Z",
          "iopub.status.idle": "2025-03-28T22:35:51.866041Z",
          "shell.execute_reply.started": "2025-03-28T22:33:05.638234Z",
          "shell.execute_reply": "2025-03-28T22:35:51.865329Z"
        },
        "jupyter": {
          "source_hidden": true
        },
        "trusted": true,
        "id": "xsrbUCnquJ7M",
        "outputId": "5cb33747-9322-49ca-d910-034abf29e363"
      },
      "outputs": [
        {
          "name": "stdout",
          "text": "799/799 [==============================] - 165s 207ms/step\n",
          "output_type": "stream"
        }
      ],
      "execution_count": null
    },
    {
      "cell_type": "code",
      "source": [
        "print('\\t\\tThe Custom CNN Evaluation Performance')\n",
        "print(classification_report(y_test, pred))"
      ],
      "metadata": {
        "execution": {
          "iopub.status.busy": "2025-03-28T22:35:51.867629Z",
          "iopub.execute_input": "2025-03-28T22:35:51.867910Z",
          "iopub.status.idle": "2025-03-28T22:35:52.059961Z",
          "shell.execute_reply.started": "2025-03-28T22:35:51.867886Z",
          "shell.execute_reply": "2025-03-28T22:35:52.059070Z"
        },
        "trusted": true,
        "id": "yGt6omjPuJ7M",
        "outputId": "f2966518-096d-41d1-ec20-f72670c05e34"
      },
      "outputs": [
        {
          "name": "stdout",
          "text": "\t\tThe Custom CNN Evaluation Performance\n              precision    recall  f1-score   support\n\n           a       0.95      0.94      0.94       992\n           b       0.96      0.96      0.96       929\n           c       0.94      0.97      0.95      1008\n           d       0.98      0.97      0.97       999\n           e       0.93      0.94      0.93       973\n           f       0.95      0.97      0.96      1000\n           g       0.95      0.95      0.95       957\n           h       0.97      0.94      0.96       973\n           i       0.96      0.94      0.95       969\n           j       0.97      0.97      0.97       931\n           k       0.94      0.98      0.96      1000\n           l       0.93      0.95      0.94       974\n           m       0.95      0.98      0.96      1005\n           n       0.93      0.94      0.93       951\n           o       0.95      0.95      0.95       951\n           p       0.97      0.97      0.97       982\n           q       0.98      0.96      0.97      1004\n           r       0.95      0.93      0.94      1005\n           s       0.96      0.96      0.96      1044\n           t       0.93      0.96      0.95       980\n           u       0.93      0.96      0.95       986\n           v       0.95      0.95      0.95       962\n           w       0.98      0.95      0.97      1014\n           x       0.97      0.97      0.97       981\n           y       0.98      0.94      0.96       981\n           z       0.99      0.96      0.98      1009\n\n    accuracy                           0.96     25560\n   macro avg       0.96      0.96      0.96     25560\nweighted avg       0.96      0.96      0.96     25560\n\n",
          "output_type": "stream"
        }
      ],
      "execution_count": null
    },
    {
      "cell_type": "markdown",
      "source": [
        "# 5) Post-Processing\n",
        "#### **THIS SECTION IS ABOUT `Computer Vision` TECHNIQUES**\n",
        "\n",
        "*the image will be taken from the user/externally to be processed and input into our model. some **LOW LEVEL COMPUTER VISION TECHNIQUES** are used in order to enhance the input image, wheter it is text or handwritten, these techniques are the following:*\n",
        "\n",
        "- **Binarization:** The binarization function applies Otsu's binarization to the grayscale image, producing a binary image.\n",
        "\n",
        "- **Dilate:** The dilate function performs morphological dilation on the binary image. The degree of dilation is adjusted based on whether processing `words` or `characters`.\n",
        "\n",
        "- **Find Rectangles:** The find_rect function identifies bounding rectangles in the binary image, sorting them based on their **x-coordinate (From Left-to-Right)**.\n",
        "\n",
        "- **Extract Characters:** The extract function uses the aforementioned techniques to extract characters from the image. It identifies words **FIRST**, then extracts characters from each word, and with the use of the pre-trained deep learning model to recognize each character."
      ],
      "metadata": {
        "id": "crhSBDL5uJ7N"
      }
    },
    {
      "cell_type": "markdown",
      "source": [
        "# Working"
      ],
      "metadata": {
        "id": "2Gvs-wQJuJ7N"
      }
    },
    {
      "cell_type": "code",
      "source": [
        "# Computer Vision - Low level techniques\n",
        "def load_model():\n",
        "    model_path = '/kaggle/input/working-bettwe/tensorflow2/default/1/CustomCnn_model.h5'\n",
        "    model = tf.keras.saving.load_model(model_path)\n",
        "    return model\n",
        "\n",
        "def convert_2_gray(image):\n",
        "    gray_image = cv2.cvtColor(image, cv2.COLOR_RGB2GRAY)\n",
        "    return gray_image\n",
        "\n",
        "def binarization(image):\n",
        "    img, thresh = cv2.threshold(image, 0,255, cv2.THRESH_OTSU|cv2.THRESH_BINARY_INV)\n",
        "    return img, thresh\n",
        "\n",
        "def dilate(image, words= False):\n",
        "    img = image.copy()\n",
        "    m = 3\n",
        "    n = m - 2                   # n less than m for Vertical structuring element to dilate chars\n",
        "    itrs = 4\n",
        "    if words:\n",
        "        m = 6\n",
        "        n = m\n",
        "        itrs = 3\n",
        "    rect_kernel = cv2.getStructuringElement(cv2.MORPH_RECT, (n, m))\n",
        "    dilation = cv2.dilate(img, rect_kernel, iterations = itrs)\n",
        "    return dilation\n",
        "\n",
        "def find_rect(image):\n",
        "    contours, hierarchy = cv2.findContours(image, cv2.RETR_EXTERNAL, cv2.CHAIN_APPROX_NONE)\n",
        "    rects = []\n",
        "\n",
        "    for cnt in contours:\n",
        "        x,y,w,h = cv2.boundingRect(cnt)  # Extract the bounding rectangle coordinates of each countour\n",
        "        rects.append([x,y,w,h])\n",
        "\n",
        "    sorted_rects = list(sorted(rects, key=lambda x: x[0])) # Sorting the rects from Left-to-Right\n",
        "    return sorted_rects\n",
        "\n",
        "def extract(image):\n",
        "    model = load_model()\n",
        "    chars = []              # a list to store recognized characters\n",
        "\n",
        "    image_cpy = image.copy()\n",
        "    _, bin_img = binarization(convert_2_gray(image_cpy))\n",
        "    full_dil_img = dilate(bin_img,words=True)\n",
        "    words = find_rect(full_dil_img)                       # Recognized words within the image\n",
        "    del _, bin_img, full_dil_img                          # for better memory usage\n",
        "\n",
        "    for word in words:\n",
        "        x,y,w,h = word                                    # coordinates of the word\n",
        "        img = image_cpy[y:y+h, x:x+w]\n",
        "\n",
        "        _, bin_img = binarization(convert_2_gray(img))\n",
        "        dil_img = dilate(bin_img)\n",
        "        char_parts = find_rect(dil_img)                     # Recognized chars withtin the word\n",
        "        cv2.rectangle(image, (x,y),(x+w,y+h), (0,255,0), 3) # draw a green rectangle around the word\n",
        "\n",
        "        del _, bin_img, dil_img\n",
        "\n",
        "        for char in char_parts:\n",
        "            x,y,w,h = char\n",
        "            ch = img[y:y+h, x:x+w]\n",
        "\n",
        "            empty_img = np.full((32,32,1),255, dtype=np.uint8) # a white image used for resize with filling\n",
        "            x,y = 3,3                                          # starting indecies\n",
        "            resized = cv2.resize(ch, (16,22), interpolation=cv2.INTER_CUBIC)\n",
        "            gray = convert_2_gray(resized)\n",
        "            empty_img[y:y+22, x:x+16,0] = gray.copy()          # integrate the recognized char into the white image\n",
        "            gray = cv2.cvtColor(empty_img, cv2.COLOR_GRAY2RGB)\n",
        "            gray = gray.astype(np.int32)\n",
        "\n",
        "            predicted = mapping_inverse[np.argmax(model.predict(np.array([gray]), verbose=-1))]\n",
        "            chars.append(predicted)                            # append the character into the list\n",
        "\n",
        "            del ch, resized, gray, empty_img\n",
        "        chars.append(' ')  # at the end of each iteration (end of word) append a space\n",
        "\n",
        "    del model\n",
        "    show_image(image)\n",
        "    return ''.join(chars[:-1])"
      ],
      "metadata": {
        "execution": {
          "iopub.status.busy": "2025-03-28T23:27:26.225410Z",
          "iopub.execute_input": "2025-03-28T23:27:26.226182Z",
          "iopub.status.idle": "2025-03-28T23:27:26.243178Z",
          "shell.execute_reply.started": "2025-03-28T23:27:26.226142Z",
          "shell.execute_reply": "2025-03-28T23:27:26.242321Z"
        },
        "trusted": true,
        "id": "pA7sRmOAuJ7N"
      },
      "outputs": [],
      "execution_count": null
    },
    {
      "cell_type": "markdown",
      "source": [
        "## 6.1) Testing"
      ],
      "metadata": {
        "id": "-9wRC6QQuJ7O"
      }
    },
    {
      "cell_type": "code",
      "source": [
        "# Testing 1\n",
        "img = read_image('/kaggle/input/testing/Capture4.JPG')\n",
        "text = extract(img)\n",
        "print('-->',text)"
      ],
      "metadata": {
        "execution": {
          "iopub.status.busy": "2025-03-28T23:27:32.949534Z",
          "iopub.execute_input": "2025-03-28T23:27:32.950253Z",
          "iopub.status.idle": "2025-03-28T23:27:35.417278Z",
          "shell.execute_reply.started": "2025-03-28T23:27:32.950222Z",
          "shell.execute_reply": "2025-03-28T23:27:35.416369Z"
        },
        "trusted": true,
        "id": "LuZdDB9xuJ7O",
        "outputId": "fa6173e5-57ea-489e-9e4d-7bbb5dcae867"
      },
      "outputs": [
        {
          "output_type": "display_data",
          "data": {
            "text/plain": "<Figure size 640x480 with 1 Axes>",
            "image/png": "[encoded data removed]"
          },
          "metadata": {}
        },
        {
          "name": "stdout",
          "text": "--> VULNERANT OMNES ULTIMA NECAT\n",
          "output_type": "stream"
        }
      ],
      "execution_count": null
    },
    {
      "cell_type": "code",
      "source": [
        "pip install deep_translator"
      ],
      "metadata": {
        "trusted": true,
        "execution": {
          "iopub.status.busy": "2025-03-28T22:48:04.275155Z",
          "iopub.execute_input": "2025-03-28T22:48:04.275485Z",
          "iopub.status.idle": "2025-03-28T22:48:14.524093Z",
          "shell.execute_reply.started": "2025-03-28T22:48:04.275457Z",
          "shell.execute_reply": "2025-03-28T22:48:14.522947Z"
        },
        "jupyter": {
          "source_hidden": true,
          "outputs_hidden": true
        },
        "collapsed": true,
        "id": "ibcyKe_-uJ7O",
        "outputId": "a1d72562-fa85-4aa8-98a3-c63492613ab1"
      },
      "outputs": [
        {
          "name": "stdout",
          "text": "Collecting deep_translator\n  Obtaining dependency information for deep_translator from https://files.pythonhosted.org/packages/38/3f/61a8ef73236dbea83a1a063a8af2f8e1e41a0df64f122233938391d0f175/deep_translator-1.11.4-py3-none-any.whl.metadata\n  Downloading deep_translator-1.11.4-py3-none-any.whl.metadata (30 kB)\nRequirement already satisfied: beautifulsoup4<5.0.0,>=4.9.1 in /opt/conda/lib/python3.10/site-packages (from deep_translator) (4.12.2)\nRequirement already satisfied: requests<3.0.0,>=2.23.0 in /opt/conda/lib/python3.10/site-packages (from deep_translator) (2.31.0)\nRequirement already satisfied: soupsieve>1.2 in /opt/conda/lib/python3.10/site-packages (from beautifulsoup4<5.0.0,>=4.9.1->deep_translator) (2.3.2.post1)\nRequirement already satisfied: charset-normalizer<4,>=2 in /opt/conda/lib/python3.10/site-packages (from requests<3.0.0,>=2.23.0->deep_translator) (3.2.0)\nRequirement already satisfied: idna<4,>=2.5 in /opt/conda/lib/python3.10/site-packages (from requests<3.0.0,>=2.23.0->deep_translator) (3.4)\nRequirement already satisfied: urllib3<3,>=1.21.1 in /opt/conda/lib/python3.10/site-packages (from requests<3.0.0,>=2.23.0->deep_translator) (1.26.15)\nRequirement already satisfied: certifi>=2017.4.17 in /opt/conda/lib/python3.10/site-packages (from requests<3.0.0,>=2.23.0->deep_translator) (2023.11.17)\nDownloading deep_translator-1.11.4-py3-none-any.whl (42 kB)\n\u001b[2K   \u001b[90m━━━━━━━━━━━━━━━━━━━━━━━━━━━━━━━━━━━━━━━━\u001b[0m \u001b[32m42.3/42.3 kB\u001b[0m \u001b[31m3.9 MB/s\u001b[0m eta \u001b[36m0:00:00\u001b[0m\n\u001b[?25hInstalling collected packages: deep_translator\nSuccessfully installed deep_translator-1.11.4\nNote: you may need to restart the kernel to use updated packages.\n",
          "output_type": "stream"
        }
      ],
      "execution_count": null
    },
    {
      "cell_type": "code",
      "source": [
        "from deep_translator import GoogleTranslator\n",
        "\n",
        "def translate_text(text, target_lang='en', source_lang='la'):\n",
        "    return GoogleTranslator(source=source_lang, target=target_lang).translate(text)\n"
      ],
      "metadata": {
        "trusted": true,
        "execution": {
          "iopub.status.busy": "2025-03-28T23:22:58.466780Z",
          "iopub.execute_input": "2025-03-28T23:22:58.467654Z",
          "iopub.status.idle": "2025-03-28T23:22:58.471837Z",
          "shell.execute_reply.started": "2025-03-28T23:22:58.467620Z",
          "shell.execute_reply": "2025-03-28T23:22:58.470981Z"
        },
        "id": "miMjldkRuJ7P"
      },
      "outputs": [],
      "execution_count": null
    },
    {
      "cell_type": "code",
      "source": [
        "translated=translate_text(text)\n",
        "print(\"Original text:\",text)\n",
        "print(\"Translated text:\",translated)"
      ],
      "metadata": {
        "trusted": true,
        "execution": {
          "iopub.status.busy": "2025-03-28T23:27:42.277658Z",
          "iopub.execute_input": "2025-03-28T23:27:42.278009Z",
          "iopub.status.idle": "2025-03-28T23:27:43.481094Z",
          "shell.execute_reply.started": "2025-03-28T23:27:42.277981Z",
          "shell.execute_reply": "2025-03-28T23:27:43.480279Z"
        },
        "id": "5Lu7Gm6euJ7P",
        "outputId": "7982885e-25cc-4af4-c04d-a318e7a492e0"
      },
      "outputs": [
        {
          "name": "stdout",
          "text": "Original text: VULNERANT OMNES ULTIMA NECAT\nTranslated text: Wound all the last kills\n",
          "output_type": "stream"
        }
      ],
      "execution_count": null
    },
    {
      "cell_type": "code",
      "source": [],
      "metadata": {
        "trusted": true,
        "id": "sUnasjhhuJ7P"
      },
      "outputs": [],
      "execution_count": null
    }
  ]
}